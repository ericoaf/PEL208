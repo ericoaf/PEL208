{
 "cells": [
  {
   "cell_type": "code",
   "execution_count": 7,
   "metadata": {},
   "outputs": [],
   "source": [
    "import numpy as np\n",
    "import pandas as pd\n",
    "import matplotlib.pylab as plt\n",
    "from sklearn.discriminant_analysis import LinearDiscriminantAnalysis\n",
    "\n",
    "plt.style.use('ggplot')\n",
    "%matplotlib inline"
   ]
  },
  {
   "cell_type": "code",
   "execution_count": 8,
   "metadata": {},
   "outputs": [],
   "source": [
    "class LDA:\n",
    "    def fit(self, df, target_col):\n",
    "        self.target_col = target_col\n",
    "        X = df.drop(target_col, axis=1)\n",
    "        y = df[target_col]\n",
    "        \n",
    "        # definição de Sb Sw\n",
    "        n_features = X.shape[1]\n",
    "        sb = np.zeros((n_features, n_features))\n",
    "        sw = np.zeros((n_features, n_features))\n",
    "\n",
    "        # Vetor de media (eixo X)\n",
    "        w, h = X.shape\n",
    "        centroide = X.mean()\n",
    "\n",
    "        # classe\n",
    "        for ix, gp in df.groupby(target_col):\n",
    "            X_i = gp.drop(target_col, axis=1)\n",
    "            \n",
    "            # eixo Xi\n",
    "            class_mean = X_i.mean()\n",
    "\n",
    "            # classe intermediária matriz Sb\n",
    "            sb_i = (class_mean - centroide).values.reshape(-1, 1)\n",
    "            sb += len(gp) * (sb_i @ sb_i.T)\n",
    "\n",
    "            # entre classes matriz Sw\n",
    "            sw_i = (X_i - class_mean).values\n",
    "            sw += sw_i.T @ sw_i\n",
    "            \n",
    "        # calc autovalores e autovetores\n",
    "        self.w, self.v = np.linalg.eig(np.linalg.inv(sw) @ sb)\n",
    "\n",
    "        # calc melhor comp.\n",
    "        self.variance_explained = self.w/self.w.sum()\n",
    "        print('% best LDAs: {}'.format(self.variance_explained.round(4)*100))\n",
    "        \n",
    "        self.sw = sw\n",
    "        self.sb = sb\n",
    "        \n",
    "    def transform(self, X, n_components=2):\n",
    "        X = X.drop(self.target_col, axis=1, errors='ignore')\n",
    "\n",
    "        # select best components\n",
    "        self.W = self.v[:, self.w.argsort()[::-1][:n_components]]\n",
    "        transformed = X @ self.W\n",
    "        transformed.columns = [f'LDA{i}' for i in range(1, n_components+1)]\n",
    "\n",
    "        return transformed"
   ]
  },
  {
   "cell_type": "code",
   "execution_count": 11,
   "metadata": {},
   "outputs": [],
   "source": [
    "# Leitura de dados\n",
    "df = pd.read_html('http://en.wikipedia.org/wiki/Iris_flower_data_set', encoding='UTF-8', index_col=0, header=0)[0]\n",
    "\n",
    "# Tratamento da label\n",
    "df.Species = df.Species.str.split('\\xa0', expand=True)[1].str.capitalize()\n",
    "\n",
    "X = df.drop('Species', axis=1)\n",
    "y = df.Species.factorize()[0]"
   ]
  },
  {
   "cell_type": "code",
   "execution_count": 13,
   "metadata": {},
   "outputs": [
    {
     "name": "stdout",
     "output_type": "stream",
     "text": [
      "% best LDAs: [99.12  0.88  0.    0.  ]\n"
     ]
    }
   ],
   "source": [
    "# LDA implementado\n",
    "lda = LDA()\n",
    "lda.fit(df, 'Species')\n",
    "my_result = lda.transform(df, 2)\n",
    "my_result['Species'] = df.Species.values"
   ]
  },
  {
   "cell_type": "code",
   "execution_count": 14,
   "metadata": {},
   "outputs": [
    {
     "data": {
      "image/png": "[encoded data removed]",
      "text/plain": [
       "<Figure size 504x288 with 1 Axes>"
      ]
     },
     "metadata": {
      "needs_background": "light"
     },
     "output_type": "display_data"
    }
   ],
   "source": [
    "# Figura\n",
    "fig, ax = plt.subplots(1, 1, sharex=True, figsize=(7, 4))\n",
    "\n",
    "# Imprimir a imagem \n",
    "for species, c in zip(df.Species.drop_duplicates(), ['r', 'g', 'b']):\n",
    "    my_result.query('Species==@species').plot.scatter(0, 1, alpha=.8, color=c, ax=ax, label=species)\n",
    "\n",
    "ax.set_title('Resultado do LDA')\n",
    "_ = plt.legend(loc=\"upper left\", bbox_to_anchor=(1,1))\n",
    "plt.tight_layout()\n",
    "plt.savefig('mypca_r.png')"
   ]
  },
  {
   "cell_type": "code",
   "execution_count": null,
   "metadata": {},
   "outputs": [],
   "source": []
  }
 ],
 "metadata": {
  "kernelspec": {
   "display_name": "Python 3",
   "language": "python",
   "name": "python3"
  },
  "language_info": {
   "codemirror_mode": {
    "name": "ipython",
    "version": 3
   },
   "file_extension": ".py",
   "mimetype": "text/x-python",
   "name": "python",
   "nbconvert_exporter": "python",
   "pygments_lexer": "ipython3",
   "version": "3.7.0"
  }
 },
 "nbformat": 4,
 "nbformat_minor": 2
}
